{
 "cells": [
  {
   "cell_type": "code",
   "execution_count": 5,
   "id": "6502dde4",
   "metadata": {},
   "outputs": [
    {
     "name": "stdout",
     "output_type": "stream",
     "text": [
      "Vehicle type:  car\n",
      "Year: 2021\n",
      "Make: Tesla\n",
      "Model: Model 3\n",
      "Doors: 4\n",
      "Roof Type: sun roof\n"
     ]
    }
   ],
   "source": [
    "#Megen Ward\n",
    "# This app creates the classes \"Automobile\" and \"Vehicle\" as an instance attribute.\n",
    "\n",
    "class Vehicle:\n",
    "    def __init__(self, vehicle_type):\n",
    "        self.vehicle_type = vehicle_type\n",
    "\n",
    "class Automobile(Vehicle):\n",
    "    def __init__(self, vehicle_type, year, make, model, doors, roof):\n",
    "        super().__init__(vehicle_type)\n",
    "        self.year = year\n",
    "        self.make = make\n",
    "        self.model = model\n",
    "        self.doors = doors\n",
    "        self.roof = roof\n",
    "        \n",
    "#Print Automobile class attributes\n",
    "\n",
    "my_car = Automobile('car', 2021, 'Tesla', 'Model 3', 4, 'sun roof')\n",
    "print(\"Vehicle type: \", my_car.vehicle_type)\n",
    "print(\"Year:\",my_car.year)  \n",
    "print(\"Make:\",my_car.make)  \n",
    "print(\"Model:\",my_car.model)  \n",
    "print(\"Doors:\",my_car.doors)  \n",
    "print(\"Roof Type:\",my_car.roof) "
   ]
  },
  {
   "cell_type": "code",
   "execution_count": null,
   "id": "6f6141ce",
   "metadata": {},
   "outputs": [],
   "source": []
  }
 ],
 "metadata": {
  "kernelspec": {
   "display_name": "Python 3 (ipykernel)",
   "language": "python",
   "name": "python3"
  },
  "language_info": {
   "codemirror_mode": {
    "name": "ipython",
    "version": 3
   },
   "file_extension": ".py",
   "mimetype": "text/x-python",
   "name": "python",
   "nbconvert_exporter": "python",
   "pygments_lexer": "ipython3",
   "version": "3.9.13"
  }
 },
 "nbformat": 4,
 "nbformat_minor": 5
}
